{
 "cells": [
  {
   "cell_type": "code",
   "execution_count": 0,
   "metadata": {
    "collapsed": false
   },
   "outputs": [
   ],
   "source": [
    "import numpy as np\n",
    "import pandas as pd\n",
    "import os\n",
    "for dirname, _, filenames in os.walk('/kaggle/input'):\n",
    "for filename in filenames:\n",
    "print(os.path.join(dirname, filename))\n",
    "from fastai.vision.all import *\n",
    "training_files = get_image_files('/kaggle/input/face-shape-dataset/FaceShape Dataset/training_set/')\n",
    "len(training_files)\n",
    "print(training_files[0])\n",
    "def label_func(p):\n",
    "return str(p).split('/')[-2]\n",
    "dls = ImageDataLoaders.from_path_func('.', training_files, label_func, item_tfms=Resize(224))\n",
    "dls.show_batch()\n",
    "learn = cnn_learner(dls, resnet34, metrics=error_rate)\n",
    "from PIL import ImageFile\n",
    "ImageFile.LOAD_TRUNCATED_IMAGES = True\n",
    "learn.lr_find()\n",
    "learn.fine_tune(2, 2e-3)\n",
    "learn.fine_tune(2, 2e-3)\n",
    "learn.fine_tune(5, 0.002754228748381138)\n",
    "learn.show_results()\n",
    "interp = Interpretation.from_learner(learn)\n",
    "interp.plot_top_losses(9, figsize=(15,10))\n",
    "from IPython.display import Image\n",
    "training_files[5]\n",
    "print(learn.predict(training_files[5]))\n",
    "Image(training_files[5], width=300)\n",
    "print(learn.predict('../input/test-shapes/morgen.jpeg'))\n",
    "Image('../input/test-shapes/morgen.jpeg', width=300)\n",
    "print(learn.predict('../input/test-shapes/rect.jpeg'))\n",
    "Image('../input/test-shapes/rect.jpeg', width=300)\n",
    "print(learn.predict('../input/test-shapes/rect2.jpeg'))\n",
    "Image('../input/test-shapes/rect2.jpeg', width=300)\n",
    "print(learn.predict('../input/test-shapes/round.jpeg'))\n",
    "Image('../input/test-shapes/round.jpeg', width=300)\n",
    "print(learn.predict('../input/test-shapes/selena.jpeg'))\n",
    "Image('../input/test-shapes/selena.jpeg', width=300)\n",
    "learn.export()"
   ]
  }
 ],
 "metadata": {
  "kernelspec": {
   "display_name": "Python 3 (system-wide)",
   "language": "python",
   "metadata": {
    "cocalc": {
     "description": "Python 3 programming language",
     "priority": 100,
     "url": "https://www.python.org/"
    }
   },
   "name": "python3",
   "resource_dir": "/ext/jupyter/kernels/python3"
  }
 },
 "nbformat": 4,
 "nbformat_minor": 4
}